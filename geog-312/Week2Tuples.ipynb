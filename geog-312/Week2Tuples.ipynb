{
 "cells": [
  {
   "cell_type": "code",
   "execution_count": 2,
   "id": "33f2ac9c-bf96-44a1-a81d-a8b54de3ba95",
   "metadata": {},
   "outputs": [],
   "source": [
    "#same week but for tuples for Data Structures section\n",
    "#how you manipulate/store/ acccess geospatial data and choose appropriate structure for geospatial tasks\n",
    "#tuple = once created, one cannot change; can store strings, booleans, numbers\n",
    "\n",
    "point =(\n",
    "    35.6895,\n",
    "    1369.6917\n",
    ") #this represents the geographic point"
   ]
  },
  {
   "cell_type": "code",
   "execution_count": 3,
   "id": "ac729088-2c8a-4380-8f04-344b2fb5fae6",
   "metadata": {},
   "outputs": [
    {
     "data": {
      "text/plain": [
       "(35.6895, 1369.6917)"
      ]
     },
     "execution_count": 3,
     "metadata": {},
     "output_type": "execute_result"
    }
   ],
   "source": [
    "point"
   ]
  },
  {
   "cell_type": "code",
   "execution_count": 3,
   "id": "4e11d051-5c13-45e3-8069-b27094702b36",
   "metadata": {},
   "outputs": [
    {
     "name": "stdout",
     "output_type": "stream",
     "text": [
      "Latitude: 35.6895, Longitude: 1369.6917\n"
     ]
    }
   ],
   "source": [
    "latitude = point[0]\n",
    "longitude = point [1]\n",
    "print(f\"Latitude: {latitude}, Longitude: {longitude}\")"
   ]
  },
  {
   "cell_type": "code",
   "execution_count": 4,
   "id": "7f8c4ecc-b0f6-46a3-a234-b893bcf82273",
   "metadata": {},
   "outputs": [
    {
     "name": "stdout",
     "output_type": "stream",
     "text": [
      "(35.6895, 1369.6917)\n"
     ]
    }
   ],
   "source": [
    "print(point)"
   ]
  },
  {
   "cell_type": "code",
   "execution_count": 5,
   "id": "ada9d60b-5b57-4d7b-85b7-a4869298a0b3",
   "metadata": {},
   "outputs": [],
   "source": [
    "cities = (\"Knoxville\", \"New York\")"
   ]
  },
  {
   "cell_type": "code",
   "execution_count": 6,
   "id": "5ee79fce-84c8-417b-9773-6d995141f9fb",
   "metadata": {},
   "outputs": [
    {
     "name": "stdout",
     "output_type": "stream",
     "text": [
      "('Knoxville', 'New York')\n"
     ]
    }
   ],
   "source": [
    "print(cities)"
   ]
  },
  {
   "cell_type": "code",
   "execution_count": 7,
   "id": "01420097-d648-4b85-b148-e67c3bb15784",
   "metadata": {},
   "outputs": [
    {
     "data": {
      "text/plain": [
       "'New York'"
      ]
     },
     "execution_count": 7,
     "metadata": {},
     "output_type": "execute_result"
    }
   ],
   "source": [
    "cities[1]"
   ]
  },
  {
   "cell_type": "code",
   "execution_count": 8,
   "id": "77239fe4-722f-4dae-b6a3-c47530e851dc",
   "metadata": {},
   "outputs": [
    {
     "data": {
      "text/plain": [
       "('New York',)"
      ]
     },
     "execution_count": 8,
     "metadata": {},
     "output_type": "execute_result"
    }
   ],
   "source": [
    "cities[1:]"
   ]
  },
  {
   "cell_type": "code",
   "execution_count": 9,
   "id": "72b03ee4-6562-4d4d-bdde-81b073e76256",
   "metadata": {},
   "outputs": [],
   "source": [
    "cities = ((\"Knoxville\", \"New York\"), (\"Nashville\", \"Chicago\"))"
   ]
  },
  {
   "cell_type": "code",
   "execution_count": 10,
   "id": "18bd1aaa-6750-420b-8a61-5f19d312daa5",
   "metadata": {},
   "outputs": [
    {
     "data": {
      "text/plain": [
       "(('Nashville', 'Chicago'),)"
      ]
     },
     "execution_count": 10,
     "metadata": {},
     "output_type": "execute_result"
    }
   ],
   "source": [
    "cities[1:]"
   ]
  },
  {
   "cell_type": "code",
   "execution_count": 11,
   "id": "a4fc45f0-5750-4693-b327-ffc00857e8da",
   "metadata": {},
   "outputs": [
    {
     "data": {
      "text/plain": [
       "'Chicago'"
      ]
     },
     "execution_count": 11,
     "metadata": {},
     "output_type": "execute_result"
    }
   ],
   "source": [
    "cities[1][1]"
   ]
  },
  {
   "cell_type": "code",
   "execution_count": 12,
   "id": "1188ac48-832e-4f5f-9a11-cbfbb66c7a0f",
   "metadata": {},
   "outputs": [
    {
     "data": {
      "text/plain": [
       "('Knoxville', 'New York')"
      ]
     },
     "execution_count": 12,
     "metadata": {},
     "output_type": "execute_result"
    }
   ],
   "source": [
    "#just practice with subsetting lists\n",
    "cities[-2]"
   ]
  },
  {
   "cell_type": "code",
   "execution_count": 12,
   "id": "434f2203-532c-4635-8086-93dff0b8a817",
   "metadata": {},
   "outputs": [
    {
     "data": {
      "text/plain": [
       "(('Nashville', 'Chicago'),)"
      ]
     },
     "execution_count": 12,
     "metadata": {},
     "output_type": "execute_result"
    }
   ],
   "source": [
    "cities[1::]"
   ]
  },
  {
   "cell_type": "code",
   "execution_count": 13,
   "id": "1f5b1748-72af-4ae5-82ff-1dd7c8ddb128",
   "metadata": {},
   "outputs": [
    {
     "data": {
      "text/plain": [
       "()"
      ]
     },
     "execution_count": 13,
     "metadata": {},
     "output_type": "execute_result"
    }
   ],
   "source": [
    "cities[:0]"
   ]
  },
  {
   "cell_type": "code",
   "execution_count": 14,
   "id": "2803481a-4b2c-4381-8b63-8288a88c078c",
   "metadata": {},
   "outputs": [
    {
     "data": {
      "text/plain": [
       "'New York'"
      ]
     },
     "execution_count": 14,
     "metadata": {},
     "output_type": "execute_result"
    }
   ],
   "source": [
    "cities[0][1]"
   ]
  },
  {
   "cell_type": "code",
   "execution_count": 15,
   "id": "8f78370f-e2bb-49c0-8c36-c7005d98739f",
   "metadata": {},
   "outputs": [
    {
     "data": {
      "text/plain": [
       "'New York'"
      ]
     },
     "execution_count": 15,
     "metadata": {},
     "output_type": "execute_result"
    }
   ],
   "source": [
    "cities[-2][-1]"
   ]
  },
  {
   "cell_type": "code",
   "execution_count": 13,
   "id": "732d9da2-ab47-4dff-abe3-ad2eed297aba",
   "metadata": {},
   "outputs": [],
   "source": [
    "#list are mutable, able to change\n",
    "#lists of tuples representing a path\n",
    "\n",
    "path = [\n",
    "    (35.6895, 139.6917),\n",
    "    (34.0522, -118.2437),\n",
    "    (51.5074, -0.1278),\n",
    "]"
   ]
  },
  {
   "cell_type": "code",
   "execution_count": 14,
   "id": "02167d14-5155-4450-9df6-02b6d545bf95",
   "metadata": {},
   "outputs": [
    {
     "name": "stdout",
     "output_type": "stream",
     "text": [
      "Updated path: [(35.6895, 139.6917), (34.0522, -118.2437), (51.5074, -0.1278), (48.8566, 2.3522)]\n"
     ]
    }
   ],
   "source": [
    "#to add another city to the defined path above, use path dot append\n",
    "\n",
    "path.append((48.8566, 2.3522))\n",
    "print(\"Updated path:\", path)"
   ]
  },
  {
   "cell_type": "code",
   "execution_count": 16,
   "id": "aa920b7d-6f02-4925-8191-3ad7d719ec70",
   "metadata": {},
   "outputs": [
    {
     "name": "stdout",
     "output_type": "stream",
     "text": [
      "[(35.6895, 139.6917), (34.0522, -118.2437), (51.5074, -0.1278), (48.8566, 2.3522)]\n"
     ]
    }
   ],
   "source": [
    "print(path)"
   ]
  },
  {
   "cell_type": "code",
   "execution_count": 17,
   "id": "d42d2996-5a4f-4c87-82f2-5a4770162989",
   "metadata": {},
   "outputs": [
    {
     "data": {
      "text/plain": [
       "[(35.6895, 139.6917), (34.0522, -118.2437)]"
      ]
     },
     "execution_count": 17,
     "metadata": {},
     "output_type": "execute_result"
    }
   ],
   "source": [
    "path[:2]"
   ]
  },
  {
   "cell_type": "code",
   "execution_count": 18,
   "id": "70189f83-e191-4158-b0e5-b4a371c9bcdc",
   "metadata": {},
   "outputs": [
    {
     "data": {
      "text/plain": [
       "[(35.6895, 139.6917),\n",
       " (34.0522, -118.2437),\n",
       " (51.5074, -0.1278),\n",
       " (48.8566, 2.3522)]"
      ]
     },
     "execution_count": 18,
     "metadata": {},
     "output_type": "execute_result"
    }
   ],
   "source": [
    "path[:]"
   ]
  },
  {
   "cell_type": "code",
   "execution_count": 19,
   "id": "d1dab63e-2980-4a3e-9a18-2f9b5b3cfb3e",
   "metadata": {},
   "outputs": [
    {
     "name": "stdout",
     "output_type": "stream",
     "text": [
      "Subset-path: [(35.6895, 139.6917), (34.0522, -118.2437)]\n"
     ]
    }
   ],
   "source": [
    "#lists allow one to perform various opers: slicing, let one access a subset of the list\n",
    "sub_path = path[:2]\n",
    "print(\"Subset-path:\", sub_path)"
   ]
  },
  {
   "cell_type": "code",
   "execution_count": 22,
   "id": "9594157b-cc6a-4a7f-87dc-e30683509a5e",
   "metadata": {},
   "outputs": [],
   "source": [
    "#next section are for set: these are unordered collections\n",
    "#of unique elements, useful when one needs stored collection of items,no duplicates\n",
    "#example below are set of unique geographic regions visited on surveys\n",
    "regions = [\"North America\", \"Europe\", \"Asia\"] #Set of regions\n",
    "regions = set(regions)"
   ]
  },
  {
   "cell_type": "code",
   "execution_count": 23,
   "id": "d7e1f2d5-4c70-474c-a8f2-f9c00d2f2fba",
   "metadata": {},
   "outputs": [
    {
     "name": "stdout",
     "output_type": "stream",
     "text": [
      "{'Asia', 'Europe', 'North America'}\n"
     ]
    }
   ],
   "source": [
    "print(regions)"
   ]
  },
  {
   "cell_type": "code",
   "execution_count": 24,
   "id": "08327bd9-663d-443a-8c96-c35d4cab18be",
   "metadata": {},
   "outputs": [
    {
     "name": "stdout",
     "output_type": "stream",
     "text": [
      "Update regions: {'Asia', 'Europe', 'Africa', 'North America'}\n"
     ]
    }
   ],
   "source": [
    "regions.add(\"Africa\")\n",
    "print(\"Update regions:\", regions)"
   ]
  },
  {
   "cell_type": "code",
   "execution_count": 25,
   "id": "cbc54b31-6c6d-432c-81b5-4a8366be3248",
   "metadata": {},
   "outputs": [
    {
     "name": "stdout",
     "output_type": "stream",
     "text": [
      "Regions after attempting to add duplicate: {'Asia', 'Europe', 'Africa', 'North America'}\n"
     ]
    }
   ],
   "source": [
    "regions.add(\"Europe\")  # Attempting to add a duplicate element\n",
    "print(\"Regions after attempting to add duplicate:\", regions)"
   ]
  },
  {
   "cell_type": "code",
   "execution_count": 26,
   "id": "915d9e99-f615-4ed8-bd32-73a9c0543048",
   "metadata": {},
   "outputs": [
    {
     "ename": "TypeError",
     "evalue": "'set' object is not subscriptable",
     "output_type": "error",
     "traceback": [
      "\u001b[1;31m---------------------------------------------------------------------------\u001b[0m",
      "\u001b[1;31mTypeError\u001b[0m                                 Traceback (most recent call last)",
      "Cell \u001b[1;32mIn[26], line 1\u001b[0m\n\u001b[1;32m----> 1\u001b[0m \u001b[43mregions\u001b[49m\u001b[43m[\u001b[49m\u001b[38;5;241;43m-\u001b[39;49m\u001b[38;5;241;43m2\u001b[39;49m\u001b[43m]\u001b[49m\n",
      "\u001b[1;31mTypeError\u001b[0m: 'set' object is not subscriptable"
     ]
    }
   ],
   "source": [
    "regions[-2]"
   ]
  },
  {
   "cell_type": "code",
   "execution_count": 27,
   "id": "226d38b2-9fa2-4a3b-809f-0e913f3b3956",
   "metadata": {},
   "outputs": [
    {
     "data": {
      "text/plain": [
       "4"
      ]
     },
     "execution_count": 27,
     "metadata": {},
     "output_type": "execute_result"
    }
   ],
   "source": [
    "len(regions)"
   ]
  },
  {
   "cell_type": "code",
   "execution_count": 28,
   "id": "ce9e06dd-aea1-42e0-b299-401d94fa4c38",
   "metadata": {},
   "outputs": [
    {
     "data": {
      "text/plain": [
       "set"
      ]
     },
     "execution_count": 28,
     "metadata": {},
     "output_type": "execute_result"
    }
   ],
   "source": [
    "type(regions)"
   ]
  },
  {
   "cell_type": "code",
   "execution_count": 29,
   "id": "4f06ef44-c4ac-4279-ac71-1a237059e8e3",
   "metadata": {},
   "outputs": [],
   "source": [
    "#Dictionaries, has key-values, with each key being unique, useful for storing data \n",
    "#associated with specific identifiers\n",
    "city_attributes = {\n",
    "    \"name\": \"Tokyo\",\n",
    "    \"population\": 13929286,\n",
    "    \"coordinates\": (35.6895, 139.6917),\n",
    "}"
   ]
  },
  {
   "cell_type": "code",
   "execution_count": 30,
   "id": "a2423ca5-73a0-4bff-a653-6a2c1d8eb7c1",
   "metadata": {},
   "outputs": [
    {
     "name": "stdout",
     "output_type": "stream",
     "text": [
      "City: Tokyo Population: 13929286\n"
     ]
    }
   ],
   "source": [
    "#then from here, can access values associated with specific keys\n",
    "city_name = city_attributes[\"name\"]\n",
    "city_population = city_attributes[\"population\"]\n",
    "print(f\"City: {city_name} Population: {city_population}\")"
   ]
  },
  {
   "cell_type": "code",
   "execution_count": 32,
   "id": "e24780e5-9b46-4839-984e-fe6de01a3e05",
   "metadata": {},
   "outputs": [
    {
     "name": "stdout",
     "output_type": "stream",
     "text": [
      "Updated city_attributes: {'name': 'Tokyo', 'population': 13929286, 'coordinates': (35.6895, 139.6917), 'average_weather': 'cool'}\n"
     ]
    }
   ],
   "source": [
    "city_attributes[\"average_weather\"] = \"cool\"\n",
    "print(\"Updated city_attributes:\", city_attributes)"
   ]
  },
  {
   "cell_type": "code",
   "execution_count": 33,
   "id": "f87db09f-16c5-4530-b726-7cd6071764f3",
   "metadata": {},
   "outputs": [
    {
     "name": "stdout",
     "output_type": "stream",
     "text": [
      "Variable          Type     Data/Info\n",
      "------------------------------------\n",
      "cities            tuple    n=2\n",
      "city_attributes   dict     n=4\n",
      "city_name         str      Tokyo\n",
      "city_population   int      13929286\n",
      "path              list     n=4\n",
      "point             tuple    n=2\n",
      "regions           set      {'Asia', 'Europe', 'Africa', 'North America'}\n",
      "sub_path          list     n=2\n"
     ]
    }
   ],
   "source": [
    "whos"
   ]
  },
  {
   "cell_type": "code",
   "execution_count": 34,
   "id": "a0ce30b4-3d27-4f96-a4d2-df7fae1aef8e",
   "metadata": {},
   "outputs": [
    {
     "data": {
      "text/plain": [
       "dict"
      ]
     },
     "execution_count": 34,
     "metadata": {},
     "output_type": "execute_result"
    }
   ],
   "source": [
    "type(city_attributes)"
   ]
  },
  {
   "cell_type": "code",
   "execution_count": null,
   "id": "4d1b856a-b1b6-4a99-bedd-77cabe8c2792",
   "metadata": {},
   "outputs": [],
   "source": [
    "#this is where you will do the exercise for week 2 on tuples: \n",
    "#create a dictionary to store attributes of a geographic feature (river or mountain(\"Long's Peak\"), and include keys for the name,\n",
    "#length, and location of the feature. Then, add an additional attribute (like source of river of height of mountain) then print\n"
   ]
  },
  {
   "cell_type": "code",
   "execution_count": 8,
   "id": "22ef93ac-926c-4c3c-9397-cd4728e18254",
   "metadata": {},
   "outputs": [],
   "source": [
    "#creating dictionary with mountain\n",
    "mountain_attributes = {\n",
    "    \"mountain\": \"Long's Peak\",\n",
    "    \"Location\": \"Rocky Mountain National Park\",\n",
    "    \"Coordinates\": (40.2549, 105.6162)\n",
    "}"
   ]
  },
  {
   "cell_type": "code",
   "execution_count": 9,
   "id": "08527d8f-8784-4a2a-9fc4-8d7c716a5077",
   "metadata": {},
   "outputs": [
    {
     "name": "stdout",
     "output_type": "stream",
     "text": [
      "{'mountain': \"Long's Peak\", 'Location': 'Rocky Mountain National Park', 'Coordinates': (40.2549, 105.6162)}\n"
     ]
    }
   ],
   "source": [
    "print(mountain_attributes)"
   ]
  },
  {
   "cell_type": "code",
   "execution_count": null,
   "id": "b7c0e867-cc72-4ed9-ab93-cb25aada2e83",
   "metadata": {},
   "outputs": [],
   "source": []
  },
  {
   "cell_type": "code",
   "execution_count": 10,
   "id": "25e52b3b-5846-4d1a-8e74-fc145271cd1d",
   "metadata": {},
   "outputs": [
    {
     "name": "stdout",
     "output_type": "stream",
     "text": [
      "The Fourteener called Long's Peak is inside Rocky Mountain National Park\n"
     ]
    }
   ],
   "source": [
    "#this is where you can create a sentence where defined attributes are inferred\n",
    "mountain_name = mountain_attributes[\"mountain\"]\n",
    "mountain_loc = mountain_attributes[\"Location\"]\n",
    "print(f\"The Fourteener called {mountain_name} is inside {mountain_loc}\")"
   ]
  },
  {
   "cell_type": "code",
   "execution_count": null,
   "id": "280d1c1e-1f7f-4a29-90bd-1fadbc4bcac9",
   "metadata": {},
   "outputs": [],
   "source": [
    "#this is to add another attribute, for this one add height"
   ]
  },
  {
   "cell_type": "code",
   "execution_count": 11,
   "id": "a4c6879c-bdd7-48da-841c-73b0d54f5fe6",
   "metadata": {},
   "outputs": [
    {
     "name": "stdout",
     "output_type": "stream",
     "text": [
      "Updated mountain_attributes {'mountain': \"Long's Peak\", 'Location': 'Rocky Mountain National Park', 'Coordinates': (40.2549, 105.6162), 'total_height_in_ft': (14, 259)}\n"
     ]
    }
   ],
   "source": [
    "mountain_attributes[\"total_height_in_ft\"] = 14,259\n",
    "print(\"Updated mountain_attributes\", mountain_attributes) "
   ]
  },
  {
   "cell_type": "code",
   "execution_count": 13,
   "id": "a055b5e6-bc91-4874-9f3b-f80b7b7917da",
   "metadata": {},
   "outputs": [
    {
     "name": "stdout",
     "output_type": "stream",
     "text": [
      "{'mountain': 'Mount Elbert', 'Location': 'Rocky Mountain National Park', 'Coordinates': (40.2549, 105.6162), 'total_height_in_ft': (14, 259)}\n"
     ]
    }
   ],
   "source": [
    "mountain_attributes[\"mountain\"] = \"Mount Elbert\"\n",
    "print(mountain_attributes)"
   ]
  },
  {
   "cell_type": "code",
   "execution_count": 14,
   "id": "06f9a759-7aa1-456c-a156-eb2abc7b577e",
   "metadata": {},
   "outputs": [],
   "source": [
    "mountain_attributes[\"mountain\"] = mountain_attributes[\"mountain\"].upper()"
   ]
  },
  {
   "cell_type": "code",
   "execution_count": 15,
   "id": "ee202a88-cae1-427e-9f4f-02160dd8a141",
   "metadata": {},
   "outputs": [
    {
     "name": "stdout",
     "output_type": "stream",
     "text": [
      "{'mountain': 'MOUNT ELBERT', 'Location': 'Rocky Mountain National Park', 'Coordinates': (40.2549, 105.6162), 'total_height_in_ft': (14, 259)}\n"
     ]
    }
   ],
   "source": [
    "print(mountain_attributes)"
   ]
  },
  {
   "cell_type": "code",
   "execution_count": 16,
   "id": "5f58a5f2-a88c-46de-8de1-a06684a43973",
   "metadata": {},
   "outputs": [
    {
     "name": "stdout",
     "output_type": "stream",
     "text": [
      "{'mountain': 'mount elbert', 'Location': 'Rocky Mountain National Park', 'Coordinates': (40.2549, 105.6162), 'total_height_in_ft': (14, 259)}\n"
     ]
    }
   ],
   "source": [
    "mountain_attributes[\"mountain\"] = mountain_attributes[\"mountain\"].lower()\n",
    "print(mountain_attributes)"
   ]
  },
  {
   "cell_type": "code",
   "execution_count": null,
   "id": "5e39c14f-c59d-48fa-8d6b-b15da8f390df",
   "metadata": {},
   "outputs": [],
   "source": []
  }
 ],
 "metadata": {
  "kernelspec": {
   "display_name": "Python 3 (ipykernel)",
   "language": "python",
   "name": "python3"
  },
  "language_info": {
   "codemirror_mode": {
    "name": "ipython",
    "version": 3
   },
   "file_extension": ".py",
   "mimetype": "text/x-python",
   "name": "python",
   "nbconvert_exporter": "python",
   "pygments_lexer": "ipython3",
   "version": "3.11.9"
  }
 },
 "nbformat": 4,
 "nbformat_minor": 5
}
