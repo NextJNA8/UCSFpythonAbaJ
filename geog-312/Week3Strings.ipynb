{
 "cells": [
  {
   "cell_type": "code",
   "execution_count": 1,
   "id": "9d0b6d68-9da6-494c-9958-1a57319edcfc",
   "metadata": {},
   "outputs": [],
   "source": [
    "#this is week 3 for String: these are sequence of characters , and can be created by enclosing characters\n",
    "#in single or double quotes, like the one below, representing name of a location\n",
    "location_name = \"Mount Everest\""
   ]
  },
  {
   "cell_type": "code",
   "execution_count": 4,
   "id": "06cfb1cd-b81b-47c9-85ee-2dcccc0870f9",
   "metadata": {},
   "outputs": [
    {
     "name": "stdout",
     "output_type": "stream",
     "text": [
      "Mount Everest, Nepal 10000\n"
     ]
    }
   ],
   "source": [
    "#one can concatenate (join strings, like listing in R) using the R operator, so long as same data type\n",
    "location_name_full = location_name + \", Nepal\" + \" \" + str(10000)\n",
    "print(location_name_full)"
   ]
  },
  {
   "cell_type": "code",
   "execution_count": null,
   "id": "4dfbb498-cafc-4096-9a9e-20e704153bc0",
   "metadata": {},
   "outputs": [],
   "source": []
  },
  {
   "cell_type": "code",
   "execution_count": 3,
   "id": "b1a52194-6f04-4502-add6-d4a7f6370a1e",
   "metadata": {},
   "outputs": [
    {
     "data": {
      "text/plain": [
       "str"
      ]
     },
     "execution_count": 3,
     "metadata": {},
     "output_type": "execute_result"
    }
   ],
   "source": [
    "type(location_name_full)"
   ]
  },
  {
   "cell_type": "code",
   "execution_count": 5,
   "id": "144c5a3d-a4d1-4142-b4d6-09f576ec9443",
   "metadata": {},
   "outputs": [],
   "source": [
    "separator = \"--\" * 20"
   ]
  },
  {
   "cell_type": "code",
   "execution_count": 6,
   "id": "2f93d8f9-c9f9-44d5-a91d-729a84dc080f",
   "metadata": {},
   "outputs": [
    {
     "name": "stdout",
     "output_type": "stream",
     "text": [
      "----------------------------------------\n"
     ]
    }
   ],
   "source": [
    "print(separator)"
   ]
  },
  {
   "cell_type": "code",
   "execution_count": 7,
   "id": "d745bd02-7bda-495c-acea-d0ed03857115",
   "metadata": {},
   "outputs": [
    {
     "name": "stdout",
     "output_type": "stream",
     "text": [
      "SELECT * FROM locations WHERE country = 'Nepal'\n"
     ]
    }
   ],
   "source": [
    "#constructing a basic SQL query string to select data from a geospatial dbase\n",
    "table_name = \"locations\"\n",
    "conditions = \"country = 'Nepal'\"\n",
    "sql_query = f\"SELECT * FROM {table_name} WHERE {conditions}\"\n",
    "print(sql_query)"
   ]
  },
  {
   "cell_type": "code",
   "execution_count": 10,
   "id": "8186fbae-84ce-4e52-b087-93c5a0ca69ec",
   "metadata": {},
   "outputs": [],
   "source": [
    "#section on String Methods used in GEOSPATIAL data; PYTHON has built-in methods to manipulate strings\n",
    "#strip() - > remove leading and trailing whitespace (can do lstrip() or rstrip())\n",
    "#replace() - > replace  a substring with another substring\n",
    "#split () - > split a string into a list of substring based on a delimiter\n",
    "#join() - > Join a list of strings into a single string with a specified delimiter\n",
    "location_name_upper = location_name.upper()"
   ]
  },
  {
   "cell_type": "code",
   "execution_count": 12,
   "id": "36c2d9f4-4f5b-4ce1-a236-e234a2e14fdd",
   "metadata": {},
   "outputs": [
    {
     "name": "stdout",
     "output_type": "stream",
     "text": [
      "MOUNT EVEREST\n"
     ]
    }
   ],
   "source": [
    "print(location_name_upper)"
   ]
  },
  {
   "cell_type": "code",
   "execution_count": 13,
   "id": "64304c84-87b4-4b8a-b74d-6bfc90517d56",
   "metadata": {},
   "outputs": [
    {
     "name": "stdout",
     "output_type": "stream",
     "text": [
      "    Tibet    \n"
     ]
    }
   ],
   "source": [
    "#cleaning by strip\n",
    "new_location_name = \"    Tibet    \"\n",
    "print(new_location_name)"
   ]
  },
  {
   "cell_type": "code",
   "execution_count": 14,
   "id": "a01d4972-aff0-4d13-acdd-dd3801541afb",
   "metadata": {},
   "outputs": [
    {
     "name": "stdout",
     "output_type": "stream",
     "text": [
      "Tibet\n"
     ]
    }
   ],
   "source": [
    "new_location_name_clean = new_location_name.strip()\n",
    "print(new_location_name_clean)"
   ]
  },
  {
   "cell_type": "code",
   "execution_count": 15,
   "id": "922ef899-775c-4902-84a9-1d309807b251",
   "metadata": {},
   "outputs": [
    {
     "data": {
      "text/plain": [
       "\"Eagle's Nest\""
      ]
     },
     "execution_count": 15,
     "metadata": {},
     "output_type": "execute_result"
    }
   ],
   "source": [
    "location_name.strip().replace(\"Mount Ever\", \"Eagle's N\")"
   ]
  },
  {
   "cell_type": "code",
   "execution_count": 16,
   "id": "1937228c-1d65-41da-8ac4-a3a03919d82e",
   "metadata": {},
   "outputs": [
    {
     "name": "stdout",
     "output_type": "stream",
     "text": [
      "Mount K2\n"
     ]
    }
   ],
   "source": [
    "#replace example again\n",
    "location_name_replaced = location_name.replace(\"Everest\", \"K2\")\n",
    "print(location_name_replaced)  # Replace 'Everest' with 'K2'"
   ]
  },
  {
   "cell_type": "code",
   "execution_count": 19,
   "id": "8e8ec341-3677-4ee6-b306-981f0aa04e2e",
   "metadata": {},
   "outputs": [],
   "source": [
    "American_location = \"Knoxville, Knox County, Tenneseee, United States\"\n"
   ]
  },
  {
   "cell_type": "code",
   "execution_count": 21,
   "id": "40e7ce47-825e-445f-8e0f-9d69d427ed34",
   "metadata": {},
   "outputs": [
    {
     "name": "stdout",
     "output_type": "stream",
     "text": [
      "Knoxville, Knox County, Tenneseee, United States\n"
     ]
    }
   ],
   "source": [
    "print(American_location)"
   ]
  },
  {
   "cell_type": "code",
   "execution_count": 25,
   "id": "de669565-3a05-4035-b784-d1cde08ecd04",
   "metadata": {},
   "outputs": [],
   "source": [
    "American_location_clean = American_location.strip().replace(\"Knoxville\", \"Nashville\").replace(\"Knox\", \"Davidson\")"
   ]
  },
  {
   "cell_type": "code",
   "execution_count": 26,
   "id": "8d5c7cf1-008e-4f8c-a2ca-345ad0738b98",
   "metadata": {},
   "outputs": [
    {
     "name": "stdout",
     "output_type": "stream",
     "text": [
      "Nashville, Davidson County, Tenneseee, United States\n"
     ]
    }
   ],
   "source": [
    "#another example\n",
    "American_location_clean = American_location.strip().replace(\"Knoxville\", \"Nashville\").replace(\"Knox\", \"Davidson\")\n",
    "print(American_location_clean)"
   ]
  },
  {
   "cell_type": "code",
   "execution_count": null,
   "id": "e04970bb-e992-486d-b841-6ef8e3518d2d",
   "metadata": {},
   "outputs": [],
   "source": [
    "#suppose one have a list of country names, but inconsistent formatting, and want to normalize them:\n"
   ]
  },
  {
   "cell_type": "code",
   "execution_count": 27,
   "id": "1b1f8412-dbe1-457a-afff-d01bf10a63d5",
   "metadata": {},
   "outputs": [
    {
     "name": "stdout",
     "output_type": "stream",
     "text": [
      "Coordinates: (27.9881, 86.925)\n"
     ]
    }
   ],
   "source": [
    "latitude = 27.9881\n",
    "longitude = 86.9250\n",
    "formatted_coordinates = \"Coordinates: ({}, {})\".format(latitude, longitude)\n",
    "print(formatted_coordinates)"
   ]
  },
  {
   "cell_type": "code",
   "execution_count": null,
   "id": "270a81b3-ac5e-4a76-99f4-1f643743a843",
   "metadata": {},
   "outputs": [],
   "source": []
  }
 ],
 "metadata": {
  "kernelspec": {
   "display_name": "Python 3 (ipykernel)",
   "language": "python",
   "name": "python3"
  },
  "language_info": {
   "codemirror_mode": {
    "name": "ipython",
    "version": 3
   },
   "file_extension": ".py",
   "mimetype": "text/x-python",
   "name": "python",
   "nbconvert_exporter": "python",
   "pygments_lexer": "ipython3",
   "version": "3.11.9"
  }
 },
 "nbformat": 4,
 "nbformat_minor": 5
}
