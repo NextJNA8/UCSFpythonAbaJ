{
 "cells": [
  {
   "cell_type": "code",
   "execution_count": 2,
   "id": "c331a421-f533-4454-959c-0ca295f02ca0",
   "metadata": {},
   "outputs": [],
   "source": [
    "num_points = 120\n"
   ]
  },
  {
   "cell_type": "code",
   "execution_count": 3,
   "id": "345f6241-cfda-4b86-8364-c49b3881c053",
   "metadata": {},
   "outputs": [
    {
     "name": "stdout",
     "output_type": "stream",
     "text": [
      "120\n"
     ]
    }
   ],
   "source": [
    "print(num_points)"
   ]
  },
  {
   "cell_type": "code",
   "execution_count": 4,
   "id": "5411b1d2-7dea-4a66-8988-d9afa836580d",
   "metadata": {},
   "outputs": [
    {
     "data": {
      "text/plain": [
       "120"
      ]
     },
     "execution_count": 4,
     "metadata": {},
     "output_type": "execute_result"
    }
   ],
   "source": [
    "num_points"
   ]
  },
  {
   "cell_type": "code",
   "execution_count": 5,
   "id": "6e774882-9110-4647-b52c-01cd333a8b3f",
   "metadata": {},
   "outputs": [
    {
     "name": "stdout",
     "output_type": "stream",
     "text": [
      "120\n"
     ]
    }
   ],
   "source": [
    "print(num_points)"
   ]
  },
  {
   "cell_type": "code",
   "execution_count": 6,
   "id": "028dd191-355b-4039-b847-69f241046205",
   "metadata": {},
   "outputs": [
    {
     "data": {
      "text/plain": [
       "int"
      ]
     },
     "execution_count": 6,
     "metadata": {},
     "output_type": "execute_result"
    }
   ],
   "source": [
    "type(num_points)"
   ]
  },
  {
   "cell_type": "code",
   "execution_count": 7,
   "id": "6e03d1b2-4a18-4241-bca4-33d5f4947ea8",
   "metadata": {},
   "outputs": [],
   "source": [
    "latitude = 35.6895\n",
    "longitude = 139.6917"
   ]
  },
  {
   "cell_type": "code",
   "execution_count": 8,
   "id": "8ac1fcf6-fce9-4913-9cbe-c133cb7b2d1e",
   "metadata": {},
   "outputs": [
    {
     "name": "stdout",
     "output_type": "stream",
     "text": [
      "35.6895\n",
      "139.6917\n"
     ]
    }
   ],
   "source": [
    "print(latitude)\n",
    "print(longitude)"
   ]
  },
  {
   "cell_type": "code",
   "execution_count": 10,
   "id": "d07dcdb1-7dff-4cdd-b9e2-27e3d22db6ac",
   "metadata": {},
   "outputs": [
    {
     "data": {
      "text/plain": [
       "float"
      ]
     },
     "execution_count": 10,
     "metadata": {},
     "output_type": "execute_result"
    }
   ],
   "source": [
    "type(latitude)\n",
    "type(longitude)"
   ]
  },
  {
   "cell_type": "code",
   "execution_count": 11,
   "id": "7b0f5f6e-b83c-4f87-a105-0ce410d6cf97",
   "metadata": {},
   "outputs": [],
   "source": [
    "#this is the section for Strings\n",
    "coordinate_system = \"WGS 84\" #Represents a commonly used coordinate system"
   ]
  },
  {
   "cell_type": "code",
   "execution_count": 12,
   "id": "d910b4ef-d9e5-4cce-874a-de60e513d9ae",
   "metadata": {},
   "outputs": [
    {
     "name": "stdout",
     "output_type": "stream",
     "text": [
      "WGS 84\n"
     ]
    }
   ],
   "source": [
    "print(coordinate_system)"
   ]
  },
  {
   "cell_type": "code",
   "execution_count": 13,
   "id": "245aa669-dc4b-460e-8f2a-d77320f6da13",
   "metadata": {},
   "outputs": [],
   "source": [
    "#this is Boolean, represents one of two values: TRUE or FALSE\n",
    "is_georeferenced = True #Represents whether a dataset is georeferenced or not"
   ]
  },
  {
   "cell_type": "code",
   "execution_count": 14,
   "id": "565119b0-2768-47a7-8a11-187df91eaa1c",
   "metadata": {},
   "outputs": [],
   "source": [
    "#this is lists\n",
    "coordinates = [(latitude), (longitude)]"
   ]
  },
  {
   "cell_type": "code",
   "execution_count": 15,
   "id": "b9b29791-cce4-40f9-8c69-2d56060730b4",
   "metadata": {},
   "outputs": [
    {
     "name": "stdout",
     "output_type": "stream",
     "text": [
      "[35.6895, 139.6917]\n"
     ]
    }
   ],
   "source": [
    "print(coordinates)"
   ]
  },
  {
   "cell_type": "code",
   "execution_count": 16,
   "id": "4c9f7fe6-33b9-496d-a230-0fc899ee11c7",
   "metadata": {},
   "outputs": [],
   "source": [
    "#for Dictionaries, are collection of key-value pairs, seperated by comma, then value\n",
    "feature_attributes = {\n",
    "        \"name\": \"Mount Fuji\",\n",
    "        \"height_meters\": \"3776\",\n",
    "        \"type\": \"Stratovolcano\",\n",
    "        \"location\": [35.3606, 138.7274],\n",
    "    \n",
    "}"
   ]
  },
  {
   "cell_type": "code",
   "execution_count": 17,
   "id": "c9437756-c32f-4814-917e-05a1c10657b4",
   "metadata": {},
   "outputs": [
    {
     "name": "stdout",
     "output_type": "stream",
     "text": [
      "{'name': 'Mount Fuji', 'height_meters': '3776', 'type': 'Stratovolcano', 'location': [35.3606, 138.7274]}\n"
     ]
    }
   ],
   "source": [
    "print(feature_attributes)"
   ]
  },
  {
   "cell_type": "code",
   "execution_count": 18,
   "id": "2725e53f-89de-4baf-993e-515ed6c07fdb",
   "metadata": {},
   "outputs": [],
   "source": [
    "feature_attributes[\"height_meters\"] = 3500"
   ]
  },
  {
   "cell_type": "code",
   "execution_count": 19,
   "id": "94e7d2f2-3330-4879-b8d2-a2a8d641104d",
   "metadata": {},
   "outputs": [
    {
     "name": "stdout",
     "output_type": "stream",
     "text": [
      "{'name': 'Mount Fuji', 'height_meters': 3500, 'type': 'Stratovolcano', 'location': [35.3606, 138.7274]}\n"
     ]
    }
   ],
   "source": [
    "print(feature_attributes)"
   ]
  },
  {
   "cell_type": "code",
   "execution_count": 20,
   "id": "fad294bd-5692-45aa-aa33-cab0b4b8eda2",
   "metadata": {},
   "outputs": [
    {
     "name": "stdout",
     "output_type": "stream",
     "text": [
      "Hello World\n",
      "This is a Python script\n"
     ]
    }
   ],
   "source": [
    "#for Escape characters,\\n signifies new line\n",
    "print(\"Hello World\\nThis is a Python script\")"
   ]
  },
  {
   "cell_type": "code",
   "execution_count": 21,
   "id": "8d8d3dbb-279d-4171-8f53-dd733cbc9f46",
   "metadata": {},
   "outputs": [
    {
     "name": "stdout",
     "output_type": "stream",
     "text": [
      "This is the firstline\n",
      "\tThis is the second line\n"
     ]
    }
   ],
   "source": [
    "#for \\t, inserts a tab in a string\n",
    "print(\"This is the firstline\\n\\tThis is the second line\")"
   ]
  },
  {
   "cell_type": "code",
   "execution_count": 22,
   "id": "7cab5c56-c6e8-46aa-8b72-0d80a54c88cc",
   "metadata": {},
   "outputs": [
    {
     "name": "stdout",
     "output_type": "stream",
     "text": [
      "I say: \"Hello World\"\n"
     ]
    }
   ],
   "source": [
    "#for single quotes, in a string, one can wrap the string in double quotes, or alternate, use the escape character \\'\n",
    "print(\"I say: \\\"Hello World\\\"\")"
   ]
  },
  {
   "cell_type": "code",
   "execution_count": 23,
   "id": "1e7431cb-701e-444d-8075-1082245ac3d4",
   "metadata": {},
   "outputs": [],
   "source": [
    "num_features = 10"
   ]
  },
  {
   "cell_type": "code",
   "execution_count": 24,
   "id": "55485d37-ee00-49b2-aeff-74a18172677f",
   "metadata": {},
   "outputs": [
    {
     "name": "stdout",
     "output_type": "stream",
     "text": [
      "10\n"
     ]
    }
   ],
   "source": [
    "print(num_features)"
   ]
  },
  {
   "cell_type": "code",
   "execution_count": 25,
   "id": "e832de72-291c-4fc2-adba-8d39798342a6",
   "metadata": {},
   "outputs": [],
   "source": [
    "num_features =+ 20"
   ]
  },
  {
   "cell_type": "code",
   "execution_count": 26,
   "id": "34f1996e-cca4-4924-bbdf-4e7f72f2e49a",
   "metadata": {},
   "outputs": [
    {
     "name": "stdout",
     "output_type": "stream",
     "text": [
      "20\n"
     ]
    }
   ],
   "source": [
    "print(num_features)"
   ]
  },
  {
   "cell_type": "code",
   "execution_count": 27,
   "id": "df34b4be-1d99-4ea6-a210-b9d633fb7741",
   "metadata": {},
   "outputs": [
    {
     "name": "stdout",
     "output_type": "stream",
     "text": [
      "Update number of features: 30\n"
     ]
    }
   ],
   "source": [
    "num_features += 10\n",
    "print(\"Update number of features:\", num_features)"
   ]
  },
  {
   "cell_type": "code",
   "execution_count": 28,
   "id": "78acb335-d37e-43a0-ba82-10346a1df618",
   "metadata": {},
   "outputs": [
    {
     "name": "stdout",
     "output_type": "stream",
     "text": [
      "Update number of features: 10\n"
     ]
    }
   ],
   "source": [
    "num_features -= 20\n",
    "print(\"Update number of features:\", num_features)"
   ]
  },
  {
   "cell_type": "code",
   "execution_count": 29,
   "id": "a90d0479-19a6-46ab-8e10-48363078f3f0",
   "metadata": {},
   "outputs": [
    {
     "name": "stdout",
     "output_type": "stream",
     "text": [
      "Latitude in radians: 0.6228992833905163\n"
     ]
    }
   ],
   "source": [
    "import math\n",
    "\n",
    "latitude_radians = math.radians(latitude)\n",
    "print(\"Latitude in radians:\", latitude_radians)"
   ]
  },
  {
   "cell_type": "code",
   "execution_count": 30,
   "id": "bb8c70a3-8c31-4664-a6b5-444a319798c3",
   "metadata": {},
   "outputs": [
    {
     "data": {
      "text/plain": [
       "[35.6895, 139.6917]"
      ]
     },
     "execution_count": 30,
     "metadata": {},
     "output_type": "execute_result"
    }
   ],
   "source": [
    "coordinates"
   ]
  },
  {
   "cell_type": "code",
   "execution_count": 31,
   "id": "64b613dc-3246-4a55-9a3d-37dd4ed6f630",
   "metadata": {},
   "outputs": [
    {
     "name": "stdout",
     "output_type": "stream",
     "text": [
      "Updated coordinates: [35.6895, 139.6917, 34.0522, -118.2437]\n"
     ]
    }
   ],
   "source": [
    "#to add new coordinates to the list\n",
    "coordinates\n",
    "coordinates.append(34.0522) #Lat for L.A.\n",
    "coordinates.append(-118.2437) #Long for L.A.\n",
    "print(\"Updated coordinates:\", coordinates)"
   ]
  },
  {
   "cell_type": "code",
   "execution_count": 32,
   "id": "f5f61899-9b38-4da4-a329-884e1f7bafe7",
   "metadata": {},
   "outputs": [
    {
     "name": "stdout",
     "output_type": "stream",
     "text": [
      "Mount Fuji is 3500 high.\n"
     ]
    }
   ],
   "source": [
    "#this is how to access elements in Dictionary, called 'F stream'\n",
    "mount_fuji_name = feature_attributes[\"name\"]\n",
    "mount_fuji_height = feature_attributes[\"height_meters\"]\n",
    "print(f\"{mount_fuji_name} is {mount_fuji_height} high.\")"
   ]
  },
  {
   "cell_type": "code",
   "execution_count": 33,
   "id": "a669ad15-25a2-4382-87e5-cc6c40b11747",
   "metadata": {},
   "outputs": [
    {
     "name": "stdout",
     "output_type": "stream",
     "text": [
      "name heigh_meters\n"
     ]
    }
   ],
   "source": [
    "print(\"name\", \"heigh_meters\")"
   ]
  },
  {
   "cell_type": "code",
   "execution_count": 37,
   "id": "dc9e5fe4-abd8-4e71-a035-0ed56d564938",
   "metadata": {},
   "outputs": [],
   "source": [
    "#example for placeholder\n",
    "first_name = \"Michael\"\n",
    "last_name = \"Scott\""
   ]
  },
  {
   "cell_type": "code",
   "execution_count": 38,
   "id": "5122cad2-be8c-4140-b868-11cf71c09e6e",
   "metadata": {},
   "outputs": [
    {
     "name": "stdout",
     "output_type": "stream",
     "text": [
      "Michael last name is Scott\n"
     ]
    }
   ],
   "source": [
    "print(f\"{first_name} last name is {last_name}\")"
   ]
  },
  {
   "cell_type": "code",
   "execution_count": 39,
   "id": "d2d2c122-28d0-4aa4-8893-13a3ccb6c557",
   "metadata": {},
   "outputs": [],
   "source": [
    "#this section for application on GIS\n",
    "points = [\n",
    "    [35.6895, 139.6917],  # Tokyo\n",
    "    [34.0522, -118.2437],  # Los Angeles\n",
    "    [51.5074, -0.1278],  # London\n",
    "    [48.8566, 2.3522],  # Paris\n",
    "]"
   ]
  },
  {
   "cell_type": "code",
   "execution_count": 41,
   "id": "09b9e372-29a3-4f53-a27f-f3f19bbc054a",
   "metadata": {},
   "outputs": [
    {
     "name": "stdout",
     "output_type": "stream",
     "text": [
      "Centroid of the points is at: [42.526425, 5.918099999999998]\n"
     ]
    }
   ],
   "source": [
    "#calculate centroid # centroid is the geometric center of a shape, #\n",
    "# essentially the average position of all points within that shape\n",
    "centroid_lat = sum([point[0] for point in points]) / len(points)\n",
    "centroid_lon = sum([point[1] for point in points]) / len(points)\n",
    "centroid = [centroid_lat, centroid_lon]\n",
    "print(\"Centroid of the points is at:\", centroid)"
   ]
  },
  {
   "cell_type": "code",
   "execution_count": 46,
   "id": "adcff1db-2ad6-429c-94d2-82a8dd25095b",
   "metadata": {},
   "outputs": [],
   "source": [
    "#my own example for VariablesEx on tuples to calculate centroid\n",
    "points2 = [\n",
    "    [35.6895, 139.6917],  # Tokyo\n",
    "    [34.0522, -118.2437],  # Los Angeles\n",
    "    [14.5982, 120.9828],  # Manila\n",
    "    [55.9486, -3.2006], #Ediburgh\n",
    "]"
   ]
  },
  {
   "cell_type": "code",
   "execution_count": 47,
   "id": "6fb7dc4e-1c90-4c0e-a050-45d1ee90104f",
   "metadata": {},
   "outputs": [
    {
     "name": "stdout",
     "output_type": "stream",
     "text": [
      "Centroid of the points is at: [35.072125, 34.80754999999999]\n"
     ]
    }
   ],
   "source": [
    "centroid_lat = sum([point[0] for point in points2]) / len(points2)\n",
    "centroid_lon = sum([point[1] for point in points2]) / len(points2)\n",
    "centroid = [centroid_lat, centroid_lon]\n",
    "print(\"Centroid of the points is at:\", centroid)"
   ]
  },
  {
   "cell_type": "code",
   "execution_count": null,
   "id": "21b02ef6-5ada-4f71-afa9-02f2ea2f0955",
   "metadata": {},
   "outputs": [],
   "source": []
  },
  {
   "cell_type": "code",
   "execution_count": null,
   "id": "0d6f3c02-161d-4bfa-bb90-a9d36dd8e835",
   "metadata": {},
   "outputs": [],
   "source": []
  }
 ],
 "metadata": {
  "kernelspec": {
   "display_name": "Python 3 (ipykernel)",
   "language": "python",
   "name": "python3"
  },
  "language_info": {
   "codemirror_mode": {
    "name": "ipython",
    "version": 3
   },
   "file_extension": ".py",
   "mimetype": "text/x-python",
   "name": "python",
   "nbconvert_exporter": "python",
   "pygments_lexer": "ipython3",
   "version": "3.11.9"
  }
 },
 "nbformat": 4,
 "nbformat_minor": 5
}
