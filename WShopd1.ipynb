{
 "cells": [
  {
   "cell_type": "code",
   "execution_count": 1,
   "id": "d0331984-8511-481f-a413-68d59f156fff",
   "metadata": {},
   "outputs": [
    {
     "name": "stdout",
     "output_type": "stream",
     "text": [
      "hello world\n"
     ]
    }
   ],
   "source": [
    "print(\"hello world\")"
   ]
  },
  {
   "cell_type": "code",
   "execution_count": 2,
   "id": "b538c605-aba9-4b01-b57d-5d29e22e0f9a",
   "metadata": {},
   "outputs": [],
   "source": [
    "temp = 63"
   ]
  },
  {
   "cell_type": "code",
   "execution_count": 3,
   "id": "09fde734-422b-4a39-a12e-9ed42dd35a91",
   "metadata": {},
   "outputs": [
    {
     "name": "stdout",
     "output_type": "stream",
     "text": [
      "63\n"
     ]
    }
   ],
   "source": [
    "print(temp)"
   ]
  },
  {
   "cell_type": "code",
   "execution_count": 4,
   "id": "6d10d7e3-f809-4cc0-b128-80a0d7004982",
   "metadata": {},
   "outputs": [
    {
     "data": {
      "text/plain": [
       "63"
      ]
     },
     "execution_count": 4,
     "metadata": {},
     "output_type": "execute_result"
    }
   ],
   "source": [
    "temp\n"
   ]
  },
  {
   "cell_type": "code",
   "execution_count": 5,
   "id": "9f97368f-82ca-49db-8873-72789f625e17",
   "metadata": {},
   "outputs": [],
   "source": [
    "day = 'Friday'"
   ]
  },
  {
   "cell_type": "code",
   "execution_count": 6,
   "id": "1bc3a3d1-8006-4b97-ac25-360ecb384f31",
   "metadata": {},
   "outputs": [
    {
     "name": "stdout",
     "output_type": "stream",
     "text": [
      "Friday\n"
     ]
    }
   ],
   "source": [
    "print(day)"
   ]
  },
  {
   "cell_type": "code",
   "execution_count": 7,
   "id": "0dc1dce4-bcb3-4eb2-9fdb-ffbee7b97ce5",
   "metadata": {},
   "outputs": [
    {
     "data": {
      "text/plain": [
       "'Friday'"
      ]
     },
     "execution_count": 7,
     "metadata": {},
     "output_type": "execute_result"
    }
   ],
   "source": [
    "day"
   ]
  },
  {
   "cell_type": "code",
   "execution_count": 8,
   "id": "c06bdd76-adf7-4108-990a-35a36dfe9c84",
   "metadata": {},
   "outputs": [
    {
     "name": "stdout",
     "output_type": "stream",
     "text": [
      "63\n",
      "Friday\n"
     ]
    }
   ],
   "source": [
    "print(temp)\n",
    "print(day)"
   ]
  },
  {
   "cell_type": "code",
   "execution_count": 9,
   "id": "fb1aa07d-961e-4ef0-9a44-506bf6b81357",
   "metadata": {},
   "outputs": [
    {
     "data": {
      "text/plain": [
       "int"
      ]
     },
     "execution_count": 9,
     "metadata": {},
     "output_type": "execute_result"
    }
   ],
   "source": [
    "type(temp)"
   ]
  },
  {
   "cell_type": "code",
   "execution_count": 10,
   "id": "0cbbe1f7-9b0d-4cb9-84a0-8f2c027d3f42",
   "metadata": {},
   "outputs": [
    {
     "data": {
      "text/plain": [
       "str"
      ]
     },
     "execution_count": 10,
     "metadata": {},
     "output_type": "execute_result"
    }
   ],
   "source": [
    "type(day)"
   ]
  },
  {
   "cell_type": "code",
   "execution_count": 11,
   "id": "3bf9bb41-6ca6-466f-b9f8-1d6026bcbefa",
   "metadata": {},
   "outputs": [],
   "source": [
    "humidity = .6"
   ]
  },
  {
   "cell_type": "code",
   "execution_count": 12,
   "id": "b6ce9294-160c-4b05-99c4-0168474bc348",
   "metadata": {},
   "outputs": [
    {
     "data": {
      "text/plain": [
       "float"
      ]
     },
     "execution_count": 12,
     "metadata": {},
     "output_type": "execute_result"
    }
   ],
   "source": [
    "type(humidity)"
   ]
  },
  {
   "cell_type": "code",
   "execution_count": 16,
   "id": "cc165253-9dd0-4306-bc94-23a553774dda",
   "metadata": {},
   "outputs": [],
   "source": [
    "#create variable for day_2 (Monday), temp_2 (70) humidity_2 (.7)\n",
    "#list their types\n",
    "day_2= 'Monday'"
   ]
  },
  {
   "cell_type": "code",
   "execution_count": 17,
   "id": "57b99140-683a-44c3-b8e0-5ea692cd7c34",
   "metadata": {},
   "outputs": [
    {
     "name": "stdout",
     "output_type": "stream",
     "text": [
      "Monday\n"
     ]
    }
   ],
   "source": [
    "print(day_2)"
   ]
  },
  {
   "cell_type": "code",
   "execution_count": 18,
   "id": "815ddafa-b9f7-4e6f-b9be-c68814f10538",
   "metadata": {},
   "outputs": [
    {
     "data": {
      "text/plain": [
       "str"
      ]
     },
     "execution_count": 18,
     "metadata": {},
     "output_type": "execute_result"
    }
   ],
   "source": [
    "type(day_2)"
   ]
  },
  {
   "cell_type": "code",
   "execution_count": 19,
   "id": "e736f474-fc28-4470-a59f-80b91c557602",
   "metadata": {},
   "outputs": [],
   "source": [
    "temp_2 = 70\n",
    "humidity_2 = .7\n"
   ]
  },
  {
   "cell_type": "code",
   "execution_count": 20,
   "id": "03a48c3f-f101-459e-8ed2-df2253e47131",
   "metadata": {},
   "outputs": [
    {
     "name": "stdout",
     "output_type": "stream",
     "text": [
      "70\n",
      "0.7\n"
     ]
    }
   ],
   "source": [
    "print(temp_2)\n",
    "print(humidity_2)"
   ]
  },
  {
   "cell_type": "code",
   "execution_count": 21,
   "id": "48f09b0f-3b34-490a-b40b-8bfde9c62961",
   "metadata": {},
   "outputs": [
    {
     "data": {
      "text/plain": [
       "float"
      ]
     },
     "execution_count": 21,
     "metadata": {},
     "output_type": "execute_result"
    }
   ],
   "source": [
    "type(temp_2)\n",
    "type(humidity_2)"
   ]
  },
  {
   "cell_type": "code",
   "execution_count": 22,
   "id": "faf90997-2c93-4a61-83d8-2545c3aa3554",
   "metadata": {},
   "outputs": [
    {
     "name": "stdout",
     "output_type": "stream",
     "text": [
      "Variable     Type     Data/Info\n",
      "-------------------------------\n",
      "day          str      Monday\n",
      "day_2        str      Monday\n",
      "humidity     float    0.6\n",
      "humidity_2   float    0.7\n",
      "temp         int      63\n",
      "temp_2       int      70\n"
     ]
    }
   ],
   "source": [
    "whos"
   ]
  },
  {
   "cell_type": "code",
   "execution_count": 24,
   "id": "6084e827-8240-4989-a658-c00e5498357e",
   "metadata": {},
   "outputs": [
    {
     "data": {
      "text/plain": [
       "66.5"
      ]
     },
     "execution_count": 24,
     "metadata": {},
     "output_type": "execute_result"
    }
   ],
   "source": [
    "(temp + temp_2)/2"
   ]
  },
  {
   "cell_type": "code",
   "execution_count": 25,
   "id": "d4319a07-5bf9-401c-bf21-95001c8a12e2",
   "metadata": {},
   "outputs": [],
   "source": [
    "temp_2 = 80"
   ]
  },
  {
   "cell_type": "code",
   "execution_count": 26,
   "id": "a1acd9c6-27db-4fb0-9ebe-0b56c684f664",
   "metadata": {},
   "outputs": [
    {
     "name": "stdout",
     "output_type": "stream",
     "text": [
      "71.5\n"
     ]
    }
   ],
   "source": [
    "print((temp + temp_2)/ 2)"
   ]
  },
  {
   "cell_type": "code",
   "execution_count": 27,
   "id": "d0e3d460-b188-497b-ac31-bc158a1a19af",
   "metadata": {},
   "outputs": [],
   "source": [
    "avg_temp = (temp + temp_2) / 2"
   ]
  },
  {
   "cell_type": "code",
   "execution_count": 28,
   "id": "f297db10-d8f8-4c2a-9e54-cda13be3d71e",
   "metadata": {},
   "outputs": [
    {
     "name": "stdout",
     "output_type": "stream",
     "text": [
      "Variable     Type     Data/Info\n",
      "-------------------------------\n",
      "avg_temp     float    71.5\n",
      "day          str      Monday\n",
      "day_2        str      Monday\n",
      "humidity     float    0.6\n",
      "humidity_2   float    0.7\n",
      "temp         int      63\n",
      "temp_2       int      80\n"
     ]
    }
   ],
   "source": [
    "whos"
   ]
  },
  {
   "cell_type": "code",
   "execution_count": 30,
   "id": "cef956e4-77cc-449f-9073-c5f00390b1d2",
   "metadata": {},
   "outputs": [
    {
     "ename": "TypeError",
     "evalue": "'float' object is not callable",
     "output_type": "error",
     "traceback": [
      "\u001b[1;31m---------------------------------------------------------------------------\u001b[0m",
      "\u001b[1;31mTypeError\u001b[0m                                 Traceback (most recent call last)",
      "Cell \u001b[1;32mIn[30], line 1\u001b[0m\n\u001b[1;32m----> 1\u001b[0m \u001b[38;5;28;43mprint\u001b[39;49m\u001b[43m(\u001b[49m\u001b[43mavg_temp\u001b[49m\u001b[43m)\u001b[49m\n",
      "\u001b[1;31mTypeError\u001b[0m: 'float' object is not callable"
     ]
    }
   ],
   "source": [
    "print(avg_temp)"
   ]
  },
  {
   "cell_type": "code",
   "execution_count": 31,
   "id": "21d5b709-8a87-4eae-aca4-3775829b7ece",
   "metadata": {},
   "outputs": [
    {
     "ename": "TypeError",
     "evalue": "'float' object is not callable",
     "output_type": "error",
     "traceback": [
      "\u001b[1;31m---------------------------------------------------------------------------\u001b[0m",
      "\u001b[1;31mTypeError\u001b[0m                                 Traceback (most recent call last)",
      "Cell \u001b[1;32mIn[31], line 1\u001b[0m\n\u001b[1;32m----> 1\u001b[0m \u001b[38;5;28;43mprint\u001b[39;49m\u001b[43m \u001b[49m\u001b[43m(\u001b[49m\u001b[43mtemp\u001b[49m\u001b[43m \u001b[49m\u001b[38;5;241;43m+\u001b[39;49m\u001b[43m \u001b[49m\u001b[38;5;241;43m5\u001b[39;49m\u001b[43m)\u001b[49m\n",
      "\u001b[1;31mTypeError\u001b[0m: 'float' object is not callable"
     ]
    }
   ],
   "source": [
    "print (temp + 5)"
   ]
  },
  {
   "cell_type": "code",
   "execution_count": 32,
   "id": "47394f21-509a-438d-88a7-61ab1b79ecec",
   "metadata": {},
   "outputs": [
    {
     "data": {
      "text/plain": [
       "71.5"
      ]
     },
     "execution_count": 32,
     "metadata": {},
     "output_type": "execute_result"
    }
   ],
   "source": [
    "avg_temp"
   ]
  },
  {
   "cell_type": "code",
   "execution_count": 33,
   "id": "0b9baba2-2f6d-4608-85d9-ccb1375fec02",
   "metadata": {},
   "outputs": [
    {
     "data": {
      "text/plain": [
       "76.5"
      ]
     },
     "execution_count": 33,
     "metadata": {},
     "output_type": "execute_result"
    }
   ],
   "source": [
    "avg_temp + 5"
   ]
  },
  {
   "cell_type": "code",
   "execution_count": 34,
   "id": "2f4e405e-d9e7-4dfc-a6c0-c5c5b7b397bb",
   "metadata": {},
   "outputs": [
    {
     "name": "stdout",
     "output_type": "stream",
     "text": [
      "Variable     Type     Data/Info\n",
      "-------------------------------\n",
      "avg_temp     float    71.5\n",
      "day          str      Monday\n",
      "day_2        str      Monday\n",
      "humidity     float    0.6\n",
      "humidity_2   float    0.7\n",
      "print        float    71.5\n",
      "temp         int      63\n",
      "temp_2       int      80\n"
     ]
    }
   ],
   "source": [
    "whos"
   ]
  },
  {
   "cell_type": "code",
   "execution_count": 35,
   "id": "9d25e87a-58ac-4fd9-9c48-79c5db8b9993",
   "metadata": {},
   "outputs": [
    {
     "ename": "TypeError",
     "evalue": "'float' object is not callable",
     "output_type": "error",
     "traceback": [
      "\u001b[1;31m---------------------------------------------------------------------------\u001b[0m",
      "\u001b[1;31mTypeError\u001b[0m                                 Traceback (most recent call last)",
      "Cell \u001b[1;32mIn[35], line 1\u001b[0m\n\u001b[1;32m----> 1\u001b[0m \u001b[38;5;28;43mprint\u001b[39;49m\u001b[43m(\u001b[49m\u001b[43mavg_temp\u001b[49m\u001b[43m)\u001b[49m\n",
      "\u001b[1;31mTypeError\u001b[0m: 'float' object is not callable"
     ]
    }
   ],
   "source": [
    "print(avg_temp)"
   ]
  },
  {
   "cell_type": "code",
   "execution_count": 36,
   "id": "3c58ed43-5464-4b7a-9914-1baa06bf549d",
   "metadata": {},
   "outputs": [
    {
     "ename": "TypeError",
     "evalue": "'float' object is not callable",
     "output_type": "error",
     "traceback": [
      "\u001b[1;31m---------------------------------------------------------------------------\u001b[0m",
      "\u001b[1;31mTypeError\u001b[0m                                 Traceback (most recent call last)",
      "Cell \u001b[1;32mIn[36], line 1\u001b[0m\n\u001b[1;32m----> 1\u001b[0m \u001b[38;5;28;43mprint\u001b[39;49m\u001b[43m(\u001b[49m\u001b[43mtemp\u001b[49m\u001b[43m)\u001b[49m\n",
      "\u001b[1;31mTypeError\u001b[0m: 'float' object is not callable"
     ]
    }
   ],
   "source": [
    "print(temp)"
   ]
  },
  {
   "cell_type": "code",
   "execution_count": 37,
   "id": "957ac627-bdd3-4e5b-b06b-f55e000923a0",
   "metadata": {},
   "outputs": [
    {
     "name": "stdout",
     "output_type": "stream",
     "text": [
      "Variable     Type     Data/Info\n",
      "-------------------------------\n",
      "avg_temp     float    71.5\n",
      "day          str      Monday\n",
      "day_2        str      Monday\n",
      "humidity     float    0.6\n",
      "humidity_2   float    0.7\n",
      "print        float    71.5\n",
      "temp         int      63\n",
      "temp_2       int      80\n"
     ]
    }
   ],
   "source": [
    "whos"
   ]
  },
  {
   "cell_type": "code",
   "execution_count": 38,
   "id": "cfc2fbbd-f6ca-43ba-9bd9-733651d9320b",
   "metadata": {},
   "outputs": [
    {
     "ename": "TypeError",
     "evalue": "'float' object is not callable",
     "output_type": "error",
     "traceback": [
      "\u001b[1;31m---------------------------------------------------------------------------\u001b[0m",
      "\u001b[1;31mTypeError\u001b[0m                                 Traceback (most recent call last)",
      "Cell \u001b[1;32mIn[38], line 4\u001b[0m\n\u001b[0;32m      1\u001b[0m \u001b[38;5;66;03m#increase temp by 5 and temp_2 by 10 then print avg\u001b[39;00m\n\u001b[0;32m      2\u001b[0m \u001b[38;5;66;03m#print them both in screen, then create new var average_temp\u001b[39;00m\n\u001b[0;32m      3\u001b[0m \u001b[38;5;66;03m#print the average of temp and temp_2\u001b[39;00m\n\u001b[1;32m----> 4\u001b[0m \u001b[38;5;28;43mprint\u001b[39;49m\u001b[43m(\u001b[49m\u001b[43mtemp1\u001b[49m\u001b[43m \u001b[49m\u001b[38;5;241;43m=\u001b[39;49m\u001b[43m \u001b[49m\u001b[43mtemp\u001b[49m\u001b[43m \u001b[49m\u001b[38;5;241;43m+\u001b[39;49m\u001b[43m \u001b[49m\u001b[38;5;241;43m5\u001b[39;49m\u001b[43m)\u001b[49m\n\u001b[0;32m      5\u001b[0m \u001b[38;5;28mprint\u001b[39m(temp2 \u001b[38;5;241m=\u001b[39m temp_2 \u001b[38;5;241m+\u001b[39m \u001b[38;5;241m10\u001b[39m)\n",
      "\u001b[1;31mTypeError\u001b[0m: 'float' object is not callable"
     ]
    }
   ],
   "source": [
    "#increase temp by 5 and temp_2 by 10 then print avg\n",
    "#print them both in screen, then create new var average_temp\n",
    "#print the average of temp and temp_2\n",
    "print(temp1 = temp + 5)\n",
    "print(temp2 = temp_2 + 10)"
   ]
  },
  {
   "cell_type": "code",
   "execution_count": 39,
   "id": "fe6c8454-5ccc-4ff2-b23a-7f0473367fcb",
   "metadata": {},
   "outputs": [
    {
     "data": {
      "text/plain": [
       "68"
      ]
     },
     "execution_count": 39,
     "metadata": {},
     "output_type": "execute_result"
    }
   ],
   "source": [
    "temp + 5"
   ]
  },
  {
   "cell_type": "code",
   "execution_count": 42,
   "id": "65bac5b2-c026-45eb-b47d-baaf1390eb91",
   "metadata": {},
   "outputs": [
    {
     "ename": "TypeError",
     "evalue": "'float' object is not callable",
     "output_type": "error",
     "traceback": [
      "\u001b[1;31m---------------------------------------------------------------------------\u001b[0m",
      "\u001b[1;31mTypeError\u001b[0m                                 Traceback (most recent call last)",
      "Cell \u001b[1;32mIn[42], line 2\u001b[0m\n\u001b[0;32m      1\u001b[0m temp_b \u001b[38;5;241m=\u001b[39m temp_2 \u001b[38;5;241m+\u001b[39m \u001b[38;5;241m10\u001b[39m\n\u001b[1;32m----> 2\u001b[0m \u001b[38;5;28;43mprint\u001b[39;49m\u001b[43m(\u001b[49m\u001b[43mtemp_b\u001b[49m\u001b[43m)\u001b[49m\n",
      "\u001b[1;31mTypeError\u001b[0m: 'float' object is not callable"
     ]
    }
   ],
   "source": [
    "temp_b = temp_2 + 10\n",
    "print(temp_b)"
   ]
  },
  {
   "cell_type": "code",
   "execution_count": 43,
   "id": "a35882e8-93d6-4a89-a31d-a107a9d10155",
   "metadata": {},
   "outputs": [
    {
     "ename": "TypeError",
     "evalue": "'float' object is not callable",
     "output_type": "error",
     "traceback": [
      "\u001b[1;31m---------------------------------------------------------------------------\u001b[0m",
      "\u001b[1;31mTypeError\u001b[0m                                 Traceback (most recent call last)",
      "Cell \u001b[1;32mIn[43], line 2\u001b[0m\n\u001b[0;32m      1\u001b[0m temp_a \u001b[38;5;241m=\u001b[39m temp \u001b[38;5;241m+\u001b[39m \u001b[38;5;241m5.5\u001b[39m\n\u001b[1;32m----> 2\u001b[0m \u001b[38;5;28;43mprint\u001b[39;49m\u001b[43m(\u001b[49m\u001b[43mtemp_a\u001b[49m\u001b[43m)\u001b[49m\n",
      "\u001b[1;31mTypeError\u001b[0m: 'float' object is not callable"
     ]
    }
   ],
   "source": [
    "temp_a = temp + 5.5\n",
    "print(temp_a)"
   ]
  },
  {
   "cell_type": "code",
   "execution_count": 44,
   "id": "648a2429-726a-4e9f-bd23-e227636c6e1f",
   "metadata": {},
   "outputs": [
    {
     "data": {
      "text/plain": [
       "68.5"
      ]
     },
     "execution_count": 44,
     "metadata": {},
     "output_type": "execute_result"
    }
   ],
   "source": [
    "temp_a"
   ]
  },
  {
   "cell_type": "code",
   "execution_count": 45,
   "id": "d2a5d105-10d4-4816-8056-914023876d2f",
   "metadata": {},
   "outputs": [
    {
     "data": {
      "text/plain": [
       "90"
      ]
     },
     "execution_count": 45,
     "metadata": {},
     "output_type": "execute_result"
    }
   ],
   "source": [
    "temp_b"
   ]
  },
  {
   "cell_type": "code",
   "execution_count": 46,
   "id": "19c46beb-cc81-4285-a6a7-cbc6b0508a60",
   "metadata": {},
   "outputs": [],
   "source": [
    "average_temp = (temp_a + temp_b) / 2"
   ]
  },
  {
   "cell_type": "code",
   "execution_count": 47,
   "id": "46c37c59-105f-4e2d-bb24-ec508b20d1c5",
   "metadata": {},
   "outputs": [
    {
     "data": {
      "text/plain": [
       "79.25"
      ]
     },
     "execution_count": 47,
     "metadata": {},
     "output_type": "execute_result"
    }
   ],
   "source": [
    "average_temp"
   ]
  },
  {
   "cell_type": "code",
   "execution_count": 48,
   "id": "3adfbfc1-cbc1-4e4b-b401-3f6662924d7b",
   "metadata": {},
   "outputs": [
    {
     "ename": "NameError",
     "evalue": "name 'whos' is not defined",
     "output_type": "error",
     "traceback": [
      "\u001b[1;31m---------------------------------------------------------------------------\u001b[0m",
      "\u001b[1;31mNameError\u001b[0m                                 Traceback (most recent call last)",
      "Cell \u001b[1;32mIn[48], line 2\u001b[0m\n\u001b[0;32m      1\u001b[0m \u001b[38;5;66;03m#data types and types conversion\u001b[39;00m\n\u001b[1;32m----> 2\u001b[0m \u001b[43mwhos\u001b[49m\n",
      "\u001b[1;31mNameError\u001b[0m: name 'whos' is not defined"
     ]
    }
   ],
   "source": [
    "#data types and types conversion\n",
    "whos"
   ]
  },
  {
   "cell_type": "code",
   "execution_count": 49,
   "id": "9d1dba82-5dd8-44a1-a003-e556dc96cb61",
   "metadata": {},
   "outputs": [
    {
     "name": "stdout",
     "output_type": "stream",
     "text": [
      "Variable       Type     Data/Info\n",
      "---------------------------------\n",
      "average_temp   float    79.25\n",
      "avg_temp       float    71.5\n",
      "day            str      Monday\n",
      "day_2          str      Monday\n",
      "humidity       float    0.6\n",
      "humidity_2     float    0.7\n",
      "print          float    71.5\n",
      "temp           int      63\n",
      "temp_2         int      80\n",
      "temp_a         float    68.5\n",
      "temp_b         int      90\n"
     ]
    }
   ],
   "source": [
    "whos"
   ]
  },
  {
   "cell_type": "code",
   "execution_count": 50,
   "id": "2eb5cefb-da74-4e5a-a111-3ae2a3b7d36d",
   "metadata": {},
   "outputs": [
    {
     "data": {
      "text/plain": [
       "63"
      ]
     },
     "execution_count": 50,
     "metadata": {},
     "output_type": "execute_result"
    }
   ],
   "source": [
    "temp"
   ]
  },
  {
   "cell_type": "code",
   "execution_count": 51,
   "id": "a4d876eb-df6a-4349-bf66-afc119171fb3",
   "metadata": {},
   "outputs": [
    {
     "data": {
      "text/plain": [
       "68"
      ]
     },
     "execution_count": 51,
     "metadata": {},
     "output_type": "execute_result"
    }
   ],
   "source": [
    "temp + 5"
   ]
  },
  {
   "cell_type": "code",
   "execution_count": 52,
   "id": "2b0ef0a3-5907-49c3-9c30-a0e3fc7edc5f",
   "metadata": {},
   "outputs": [
    {
     "data": {
      "text/plain": [
       "'63 Monday'"
      ]
     },
     "execution_count": 52,
     "metadata": {},
     "output_type": "execute_result"
    }
   ],
   "source": [
    "str(temp) + \" \" + day"
   ]
  },
  {
   "cell_type": "code",
   "execution_count": 53,
   "id": "64ec02fa-b1c5-4595-b27b-b487d63fb51e",
   "metadata": {},
   "outputs": [],
   "source": [
    "day_of_month = \"22\""
   ]
  },
  {
   "cell_type": "code",
   "execution_count": 54,
   "id": "516faa2c-9a23-4db8-8911-910609c30a96",
   "metadata": {},
   "outputs": [
    {
     "data": {
      "text/plain": [
       "'22'"
      ]
     },
     "execution_count": 54,
     "metadata": {},
     "output_type": "execute_result"
    }
   ],
   "source": [
    "day_of_month"
   ]
  },
  {
   "cell_type": "code",
   "execution_count": 57,
   "id": "d22e5502-9018-48b0-9026-384f5f3b98e3",
   "metadata": {},
   "outputs": [
    {
     "data": {
      "text/plain": [
       "'63 22'"
      ]
     },
     "execution_count": 57,
     "metadata": {},
     "output_type": "execute_result"
    }
   ],
   "source": [
    "str(temp) + \" \" + (day_of_month)"
   ]
  },
  {
   "cell_type": "code",
   "execution_count": 58,
   "id": "3aa2eea1-fcf5-4471-bcfc-e2474d200a48",
   "metadata": {},
   "outputs": [
    {
     "ename": "TypeError",
     "evalue": "'float' object is not callable",
     "output_type": "error",
     "traceback": [
      "\u001b[1;31m---------------------------------------------------------------------------\u001b[0m",
      "\u001b[1;31mTypeError\u001b[0m                                 Traceback (most recent call last)",
      "Cell \u001b[1;32mIn[58], line 1\u001b[0m\n\u001b[1;32m----> 1\u001b[0m \u001b[38;5;28;43mprint\u001b[39;49m\u001b[43m(\u001b[49m\u001b[43mday\u001b[49m\u001b[43m)\u001b[49m\n\u001b[0;32m      2\u001b[0m \u001b[38;5;28mprint\u001b[39m(day_of_month)\n",
      "\u001b[1;31mTypeError\u001b[0m: 'float' object is not callable"
     ]
    }
   ],
   "source": [
    "print(day)\n",
    "print(day_of_month)"
   ]
  },
  {
   "cell_type": "code",
   "execution_count": 59,
   "id": "44e7379a-9a68-4e35-afce-03f5ae2dbfda",
   "metadata": {},
   "outputs": [
    {
     "ename": "TypeError",
     "evalue": "'float' object is not callable",
     "output_type": "error",
     "traceback": [
      "\u001b[1;31m---------------------------------------------------------------------------\u001b[0m",
      "\u001b[1;31mTypeError\u001b[0m                                 Traceback (most recent call last)",
      "Cell \u001b[1;32mIn[59], line 1\u001b[0m\n\u001b[1;32m----> 1\u001b[0m \u001b[38;5;28;43mprint\u001b[39;49m\u001b[43m(\u001b[49m\u001b[38;5;28;43mprint\u001b[39;49m\u001b[43m)\u001b[49m\n",
      "\u001b[1;31mTypeError\u001b[0m: 'float' object is not callable"
     ]
    }
   ],
   "source": [
    "print(print)"
   ]
  },
  {
   "cell_type": "code",
   "execution_count": 60,
   "id": "d42bf08a-1184-4ea0-8dc5-fe02997f5f95",
   "metadata": {},
   "outputs": [
    {
     "ename": "TypeError",
     "evalue": "'float' object is not callable",
     "output_type": "error",
     "traceback": [
      "\u001b[1;31m---------------------------------------------------------------------------\u001b[0m",
      "\u001b[1;31mTypeError\u001b[0m                                 Traceback (most recent call last)",
      "Cell \u001b[1;32mIn[60], line 1\u001b[0m\n\u001b[1;32m----> 1\u001b[0m \u001b[38;5;28;43mprint\u001b[39;49m\u001b[43m(\u001b[49m\u001b[43mday_of_month\u001b[49m\u001b[43m)\u001b[49m\n",
      "\u001b[1;31mTypeError\u001b[0m: 'float' object is not callable"
     ]
    }
   ],
   "source": [
    "print(day_of_month)"
   ]
  },
  {
   "cell_type": "code",
   "execution_count": 61,
   "id": "8f9fe271-b2e3-4a07-bbd5-a6e9554c2bf1",
   "metadata": {},
   "outputs": [
    {
     "data": {
      "text/plain": [
       "'22'"
      ]
     },
     "execution_count": 61,
     "metadata": {},
     "output_type": "execute_result"
    }
   ],
   "source": [
    "day\n",
    "day_of_month"
   ]
  },
  {
   "cell_type": "code",
   "execution_count": 62,
   "id": "3491079c-d534-4ced-bf8b-55a2fd3d711c",
   "metadata": {},
   "outputs": [
    {
     "ename": "TypeError",
     "evalue": "'float' object is not callable",
     "output_type": "error",
     "traceback": [
      "\u001b[1;31m---------------------------------------------------------------------------\u001b[0m",
      "\u001b[1;31mTypeError\u001b[0m                                 Traceback (most recent call last)",
      "Cell \u001b[1;32mIn[62], line 1\u001b[0m\n\u001b[1;32m----> 1\u001b[0m \u001b[38;5;28;43mprint\u001b[39;49m\u001b[43m(\u001b[49m\u001b[43mtemp\u001b[49m\u001b[43m,\u001b[49m\u001b[43m \u001b[49m\u001b[43mday_of_month\u001b[49m\u001b[43m)\u001b[49m\n",
      "\u001b[1;31mTypeError\u001b[0m: 'float' object is not callable"
     ]
    }
   ],
   "source": [
    "print(temp, day_of_month)"
   ]
  },
  {
   "cell_type": "code",
   "execution_count": null,
   "id": "fe4fc78b-8c95-44e2-a5ac-0e0454e74c94",
   "metadata": {},
   "outputs": [],
   "source": []
  }
 ],
 "metadata": {
  "kernelspec": {
   "display_name": "Python 3 (ipykernel)",
   "language": "python",
   "name": "python3"
  },
  "language_info": {
   "codemirror_mode": {
    "name": "ipython",
    "version": 3
   },
   "file_extension": ".py",
   "mimetype": "text/x-python",
   "name": "python",
   "nbconvert_exporter": "python",
   "pygments_lexer": "ipython3",
   "version": "3.11.9"
  }
 },
 "nbformat": 4,
 "nbformat_minor": 5
}
